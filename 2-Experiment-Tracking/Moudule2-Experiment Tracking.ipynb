{
 "cells": [
  {
   "cell_type": "code",
   "execution_count": 1,
   "metadata": {},
   "outputs": [
    {
     "name": "stdout",
     "output_type": "stream",
     "text": [
      "Python 3.9.19\n"
     ]
    }
   ],
   "source": [
    "!python -V"
   ]
  },
  {
   "cell_type": "code",
   "execution_count": 2,
   "metadata": {},
   "outputs": [
    {
     "data": {
      "text/plain": [
       "'2.13.0'"
      ]
     },
     "execution_count": 2,
     "metadata": {},
     "output_type": "execute_result"
    }
   ],
   "source": [
    "import mlflow\n",
    "mlflow.__version__"
   ]
  },
  {
   "cell_type": "code",
   "execution_count": 4,
   "metadata": {},
   "outputs": [
    {
     "data": {
      "text/plain": [
       "<Experiment: artifact_location='/Users/gan-m2/MLOps/2-Experiment-Tracking/mlruns/1', creation_time=1717008959227, experiment_id='1', last_update_time=1717008959227, lifecycle_stage='active', name='Moudle-2nyc-taxi-experiment', tags={}>"
      ]
     },
     "execution_count": 4,
     "metadata": {},
     "output_type": "execute_result"
    }
   ],
   "source": [
    "mlflow.set_tracking_uri(\"sqlite:///mlflow.db\")\n",
    "mlflow.set_experiment(\"Moudle-2nyc-taxi-experiment\")"
   ]
  },
  {
   "cell_type": "code",
   "execution_count": 5,
   "metadata": {},
   "outputs": [],
   "source": [
    "# load the data from the folder taxi_data_folder (the folder where you have downloaded the data),\n",
    "# path: /Users/gan-m2/MLOps/2-Experiment-Tracking/taxi_data-folder\n",
    "!python preprocess_data.py --raw_data_path taxi_data_folder --dest_path ./output"
   ]
  },
  {
   "cell_type": "code",
   "execution_count": 6,
   "metadata": {},
   "outputs": [
    {
     "name": "stdout",
     "output_type": "stream",
     "text": [
      "total 17088\n",
      "-rw-r--r--  1 gan-m2  staff   131004 May 29 12:20 dv.pkl\n",
      "-rw-r--r--  1 gan-m2  staff  2458697 May 29 12:20 test.pkl\n",
      "-rw-r--r--  1 gan-m2  staff  2374517 May 29 12:20 train.pkl\n",
      "-rw-r--r--  1 gan-m2  staff  2215823 May 29 12:20 val.pkl\n"
     ]
    }
   ],
   "source": [
    "# check the number of files in the output folder\n",
    "!ls -l ./output"
   ]
  },
  {
   "cell_type": "code",
   "execution_count": 12,
   "metadata": {},
   "outputs": [
    {
     "name": "stdout",
     "output_type": "stream",
     "text": [
      "2024/05/29 12:43:18 WARNING mlflow.sklearn: Failed to log training dataset information to MLflow Tracking. Reason: 'numpy.ndarray' object has no attribute 'toarray'\n",
      "2024/05/29 12:43:29 WARNING mlflow.utils.autologging_utils: MLflow autologging encountered a warning: \"/Users/gan-m2/miniconda3/envs/exp-tracking-env/lib/python3.9/site-packages/_distutils_hack/__init__.py:26: UserWarning: Setuptools is replacing distutils.\"\n",
      "/Users/gan-m2/miniconda3/envs/exp-tracking-env/lib/python3.9/site-packages/sklearn/metrics/_regression.py:483: FutureWarning: 'squared' is deprecated in version 1.4 and will be removed in 1.6. To calculate the root mean squared error, use the function'root_mean_squared_error'.\n",
      "  warnings.warn(\n"
     ]
    }
   ],
   "source": [
    "#use the train.py script to train the model\n",
    "# here i store the rmse in the mlflow\n",
    "!python train.py"
   ]
  },
  {
   "cell_type": "code",
   "execution_count": 8,
   "metadata": {},
   "outputs": [],
   "source": [
    "# create a folder for artifacts store locally\n",
    "!mkdir ./artifacts"
   ]
  },
  {
   "cell_type": "code",
   "execution_count": 11,
   "metadata": {},
   "outputs": [
    {
     "name": "stdout",
     "output_type": "stream",
     "text": [
      "[2024-05-29 12:29:34 -0700] [5307] [INFO] Starting gunicorn 22.0.0\n",
      "[2024-05-29 12:29:34 -0700] [5307] [INFO] Listening at: http://127.0.0.1:5000 (5307)\n",
      "[2024-05-29 12:29:34 -0700] [5307] [INFO] Using worker: sync\n",
      "[2024-05-29 12:29:34 -0700] [5308] [INFO] Booting worker with pid: 5308\n",
      "[2024-05-29 12:29:34 -0700] [5309] [INFO] Booting worker with pid: 5309\n",
      "[2024-05-29 12:29:34 -0700] [5310] [INFO] Booting worker with pid: 5310\n",
      "[2024-05-29 12:29:34 -0700] [5311] [INFO] Booting worker with pid: 5311\n",
      "^C\n",
      "[2024-05-29 12:29:48 -0700] [5307] [INFO] Handling signal: int\n",
      "[2024-05-29 12:29:48 -0700] [5310] [INFO] Worker exiting (pid: 5310)\n",
      "[2024-05-29 12:29:48 -0700] [5309] [INFO] Worker exiting (pid: 5309)\n",
      "[2024-05-29 12:29:48 -0700] [5311] [INFO] Worker exiting (pid: 5311)\n",
      "[2024-05-29 12:29:48 -0700] [5308] [INFO] Worker exiting (pid: 5308)\n"
     ]
    }
   ],
   "source": [
    "# run in the terminal\n",
    "# ! mlflow ui --backend-store-uri sqlite:///mlflow.db --default-artifact-root ./artifacts"
   ]
  },
  {
   "cell_type": "code",
   "execution_count": 14,
   "metadata": {},
   "outputs": [
    {
     "name": "stdout",
     "output_type": "stream",
     "text": [
      "100%|██████████| 15/15 [00:41<00:00,  2.76s/trial, best loss: 5.335419588556921]\n"
     ]
    }
   ],
   "source": [
    "# Modify the script hpo.py and make sure that the validation RMSE is logged to MLflow for each run of the hyperparameter optimization \n",
    "# (you will need to add a few lines of code to the objective function) and run the script without passing any parameters.\n",
    "!python hpo.py"
   ]
  },
  {
   "cell_type": "code",
   "execution_count": 17,
   "metadata": {},
   "outputs": [
    {
     "name": "stdout",
     "output_type": "stream",
     "text": [
      "2024/05/29 13:26:11 WARNING mlflow.sklearn: Failed to log training dataset information to MLflow Tracking. Reason: 'numpy.ndarray' object has no attribute 'toarray'\n",
      "2024/05/29 13:26:20 WARNING mlflow.sklearn: Failed to log training dataset information to MLflow Tracking. Reason: 'numpy.ndarray' object has no attribute 'toarray'\n",
      "2024/05/29 13:26:31 WARNING mlflow.sklearn: Failed to log training dataset information to MLflow Tracking. Reason: 'numpy.ndarray' object has no attribute 'toarray'\n",
      "2024/05/29 13:26:40 WARNING mlflow.sklearn: Failed to log training dataset information to MLflow Tracking. Reason: 'numpy.ndarray' object has no attribute 'toarray'\n",
      "2024/05/29 13:26:49 WARNING mlflow.sklearn: Failed to log training dataset information to MLflow Tracking. Reason: 'numpy.ndarray' object has no attribute 'toarray'\n",
      "Registered model 'best-RF-Regressor' already exists. Creating a new version of this model...\n",
      "2024/05/29 13:26:57 INFO mlflow.store.model_registry.abstract_store: Waiting up to 300 seconds for model version to finish creation. Model name: best-RF-Regressor, version 2\n",
      "Created version '2' of model 'best-RF-Regressor'.\n"
     ]
    }
   ],
   "source": [
    "# run the register_model.py script to register the best model with MLflow\n",
    "!python register_model.py"
   ]
  },
  {
   "cell_type": "code",
   "execution_count": null,
   "metadata": {},
   "outputs": [],
   "source": []
  }
 ],
 "metadata": {
  "kernelspec": {
   "display_name": "exp-tracking-env",
   "language": "python",
   "name": "python3"
  },
  "language_info": {
   "codemirror_mode": {
    "name": "ipython",
    "version": 3
   },
   "file_extension": ".py",
   "mimetype": "text/x-python",
   "name": "python",
   "nbconvert_exporter": "python",
   "pygments_lexer": "ipython3",
   "version": "3.9.19"
  }
 },
 "nbformat": 4,
 "nbformat_minor": 2
}
